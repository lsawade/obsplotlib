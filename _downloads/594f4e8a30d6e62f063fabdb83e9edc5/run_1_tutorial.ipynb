{
  "cells": [
    {
      "cell_type": "markdown",
      "metadata": {},
      "source": [
        "\n# Full Obsplotlib Tutorial\n\nThe tutorial will go over the plotting functions in ``obsplotlib`` and how to\nprepare your data to plot traces, station seismograms and full seismic sections\nusing ``obsplotlib``. Here and there the tutorial will digress into some\nmatplotlib details, to show how you could easily customize the plots to your\nliking.\n\n\n## Loading all modules\n"
      ]
    },
    {
      "cell_type": "code",
      "execution_count": null,
      "metadata": {
        "collapsed": false
      },
      "outputs": [],
      "source": [
        "import numpy as np\nimport obspy\nimport obsplotlib.plot as opl\nimport matplotlib.pyplot as plt"
      ]
    },
    {
      "cell_type": "markdown",
      "metadata": {},
      "source": [
        "## Loading data\n\n\n"
      ]
    },
    {
      "cell_type": "code",
      "execution_count": null,
      "metadata": {
        "collapsed": false
      },
      "outputs": [],
      "source": [
        "event = obspy.read_events(\"DATA/CMTSOLUTION\")[0]\nraw = obspy.read(\"DATA/observed/traces/*.sac\")\ninv = obspy.read_inventory(\"DATA/observed/station.xml\")"
      ]
    },
    {
      "cell_type": "markdown",
      "metadata": {},
      "source": [
        "Before plotting anything let's get some information about the event and the\nstation and process the data\n\n"
      ]
    },
    {
      "cell_type": "code",
      "execution_count": null,
      "metadata": {
        "collapsed": false
      },
      "outputs": [],
      "source": [
        "# Get event latitude and longitude for geometry evaluation\nevent_time = event.preferred_origin().time\nevent_latitude = event.preferred_origin().latitude\nevent_longitude = event.preferred_origin().longitude\nevent_depth = event.preferred_origin().depth  # in meters\nevent_name = 'C' + event.preferred_origin().resource_id.id.split('/')[-2]"
      ]
    },
    {
      "cell_type": "markdown",
      "metadata": {},
      "source": [
        "Attach the event station geometry to the traces, important for rotation to RTZ\n\n"
      ]
    },
    {
      "cell_type": "code",
      "execution_count": null,
      "metadata": {
        "collapsed": false
      },
      "outputs": [],
      "source": [
        "opl.attach_geometry(raw, event_latitude=event_latitude,\n                    event_longitude=event_longitude, inv=inv)"
      ]
    },
    {
      "cell_type": "markdown",
      "metadata": {},
      "source": [
        "Processing the data very generically\n\n"
      ]
    },
    {
      "cell_type": "code",
      "execution_count": null,
      "metadata": {
        "collapsed": false
      },
      "outputs": [],
      "source": [
        "bandpass = [30, 200]\nobs = opl.process(raw, inv=inv, remove_response=True, bandpass=bandpass)"
      ]
    },
    {
      "cell_type": "markdown",
      "metadata": {},
      "source": [
        "## Trace\n\nFirst let's inspect the trace plotting function. It is in a way a wrapper\naround the matplotlib plot function but with some added functionality to grab\ninfo from the stats object and plot it in a \"nice\" way.\n\n"
      ]
    },
    {
      "cell_type": "code",
      "execution_count": null,
      "metadata": {
        "collapsed": false
      },
      "outputs": [],
      "source": [
        "# Select a trace\nnetwork_str, station_str, component_str = \"II\", \"BFO\", \"Z\"\ntr = obs.select(network=network_str, station=station_str,\n                component=component_str)[0]\n\nplt.figure()\nax = opl.trace(tr, plot_labels=True, lw=0.5)\nplt.show(block=False)"
      ]
    },
    {
      "cell_type": "markdown",
      "metadata": {},
      "source": [
        "Since we have both station and event information in the stats object we can\nadd a header to the figure to be a little more explicit.\n\n"
      ]
    },
    {
      "cell_type": "code",
      "execution_count": null,
      "metadata": {
        "collapsed": false
      },
      "outputs": [],
      "source": [
        "plt.figure(figsize=(8, 3))\nax = opl.trace(tr, plot_labels=False, origin_time=event_time, lw=0.5)\n\nheader_dict = dict(\n    station=f'{tr.id}',\n    station_latitude=tr.stats.latitude,\n    station_longitude=tr.stats.longitude,\n    station_azimuth=tr.stats.azimuth,\n    station_back_azimuth=tr.stats.back_azimuth,\n    station_distance_in_degree=tr.stats.distance,\n    event=event_name,\n    event_latitude=event_latitude,\n    event_longitude=event_longitude,\n    event_depth_in_km=event_depth/1000.0,\n    event_time=event_time,\n    add_newline_station=True,\n    add_newline_event=True,\n    bandpass=bandpass,\n    fontsize='medium'\n)\n\nopl.add_header(ax, **header_dict)\nplt.subplots_adjust(left=0.05, right=0.95, top=0.725, bottom=0.15)\nplt.show(block=False)"
      ]
    },
    {
      "cell_type": "markdown",
      "metadata": {},
      "source": [
        "In the example above we are providing all possible arguments to the\n``add_header`` function just for show. Depending on whether they are provided\nthey will be added to the header or not. The header is a simple text object\nand all font related arguments are passed through ``plot_label`` and to\n``plt.text()``. The ``add_newline_station`` and ``add_newline_event`` arguments\nSimply add a newline and a space after the station name and event name.\n\n<div class=\"alert alert-info\"><h4>Note</h4><p>Digression: At this point you probably already noticed how I'm using\n    a monospace font. You may adjust this to your liking by changing the\n    ``plt.rcParams[\"font.family\"]`` parameter, e.g\n\n    .. code:: python\n\n        plt.rcParams[\"font.family\"] = \"Arial\"\n\n    Monospace is a personal preference of mine, because it makes it easier to\n    align the header and the labels. But it is not the most beautiful font.\n    Especially, if you are comparing traces and plot labels that contain\n    numbers, it is simpler to compare numbers if they are aligned. Anywho\n    I will enable it for the next section before switching back to monospace.</p></div>\n\n## Station\n\nThe next function is the station function. Instead of plotting a single trace\nit will plot a set of components in a single figure. It's a wrapper around the\nplot trace function, so most arguments are parsed to the trace function. The\nThe components are defined by a keyword argument. So you may use ``ZRT``\n``NEZ`` or ``123`` or just two, ``RT``, for example.\n\n"
      ]
    },
    {
      "cell_type": "code",
      "execution_count": null,
      "metadata": {
        "collapsed": false
      },
      "outputs": [],
      "source": [
        "# Switching font to Arial\nplt.rcParams[\"font.family\"] = \"Arial\"\n\n# Get station from observed trace\nst = obs.select(network=\"II\", station=\"BFO\")\n\n# Plot the station\nplt.figure(figsize=(8, 5))\naxes = opl.station(st, components='ZRT', lw=0.5)\n\n# If dissatisfied with legend fontsize and position? Just recreate it using\n# the first axes object.\naxes[0].legend(frameon=False, loc='lower right', ncol=3, fontsize='small',\n               bbox_to_anchor=(1.0, 1.0))\n\n# Add the header with a bit more distance to make room for the legend outside\n# the  axes\nopl.add_header(axes[0], **header_dict, dist=0.075)\n\n# Slightly adjust the plots to make the fit nicely into the figure\nplt.subplots_adjust(left=0.075, right=0.925, top=0.775, bottom=0.15)\nplt.show(block=False)"
      ]
    },
    {
      "cell_type": "markdown",
      "metadata": {},
      "source": [
        "Putting the legend outside the axes is nice when we are plotting multiple\ntraces to compare them. But if we are only plotting a single stream, it is\nnicer to plot the legend inside the axes. Because it removes some unused\nwhite space.\n\n## Section\n\nPlotting a section should be simple. And obspy does make it fairly easy, but\nthe moment you want to plot a section with multiple components, or align\ntraces it becomes fairly complicated. ``obsplotlib`` is trying to streamline\nthese processes, by using some function to add properties to the stats object\nof the traces and then using these properties to plot the section. We actually\nalready did this earlier in the tutorial when we used\n``opl.attach_geometry(...)`` to attach the station coordinates to the stats.\nIf you don't have a stationxml file, you can use opl.attach_geometry(...)\nafter attaching station coordinates to the traces' stats objects, or manually\nadd distance, (and optionally, azimuth, and back_azimuth for labels)\nto the stats object. To save space in the section, traces are not plotting by\ntheir actual distance, but one by one with a label that has the distance.\n\n"
      ]
    },
    {
      "cell_type": "code",
      "execution_count": null,
      "metadata": {
        "collapsed": false
      },
      "outputs": [],
      "source": [
        "# Switching back to monospace\nplt.rcParams[\"font.family\"] = \"monospace\"\n\nplt.figure(figsize=(8, 10))\nopl.section(obs, lw=0.5, comp='T')\nplt.legend(frameon=False, loc='upper right', ncol=3, fontsize='small')\nplt.subplots_adjust(left=0.15, right=0.85, top=0.95, bottom=0.05)\nplt.show(block=False)"
      ]
    },
    {
      "cell_type": "markdown",
      "metadata": {},
      "source": [
        "Plotting the same section but with axis limits from 300 seconds to 1500 seconds\nafter the event\n\n"
      ]
    },
    {
      "cell_type": "code",
      "execution_count": null,
      "metadata": {
        "collapsed": false
      },
      "outputs": [],
      "source": [
        "starttime = event_time + 600\nendtime = event_time + 3600\nlimits = [starttime, endtime]\n\nplt.figure(figsize=(8, 10))\nopl.section(obs, limits=limits, lw=0.5)\nplt.subplots_adjust(left=0.15, right=0.85, top=0.95, bottom=0.05)\nplt.show(block=False)"
      ]
    },
    {
      "cell_type": "markdown",
      "metadata": {},
      "source": [
        "Plotting the same section but with the origin time defined so that we get\nTime since event origin on the x-axis.\n\n"
      ]
    },
    {
      "cell_type": "code",
      "execution_count": null,
      "metadata": {
        "collapsed": false
      },
      "outputs": [],
      "source": [
        "plt.figure(figsize=(8, 10))\nopl.section(obs, origin_time=event_time, lw=0.5)\nplt.subplots_adjust(left=0.15, right=0.85, top=0.95, bottom=0.05)\nplt.show(block=False)"
      ]
    },
    {
      "cell_type": "markdown",
      "metadata": {},
      "source": [
        "Again plotting the same section but now with the origin time defined so that we\nget Time since event origin on the x-axis and with axis limits from 300 seconds\nto 1500 seconds after the event\n\n"
      ]
    },
    {
      "cell_type": "code",
      "execution_count": null,
      "metadata": {
        "collapsed": false
      },
      "outputs": [],
      "source": [
        "limits = [600, 3600]\nplt.figure(figsize=(8, 10))\nopl.section(obs, origin_time=event_time, limits=limits, lw=0.5)\nplt.subplots_adjust(left=0.15, right=0.85, top=0.95, bottom=0.05)\nplt.show(block=False)"
      ]
    },
    {
      "cell_type": "markdown",
      "metadata": {},
      "source": [
        "Next we are going to plot an aligned sections. To do this each trace must have\na obspy.Trace.stats.traveltime parameter. This can be done using the\nadd_traveltime function or manually using your own function.\n\n"
      ]
    },
    {
      "cell_type": "code",
      "execution_count": null,
      "metadata": {
        "collapsed": false
      },
      "outputs": [],
      "source": [
        "obs_filtered = opl.add_traveltime(obs, phase='love', orbit=1,\n                                  return_filtered=True, vlove=6.5)"
      ]
    },
    {
      "cell_type": "markdown",
      "metadata": {},
      "source": [
        "Note that the add traveltime function uses the TauPy model by default for\nbody waves and fixed velocity for surface waves. The traveltimes are then\ncomputed using the distance parameter in the stats object.\n\n"
      ]
    },
    {
      "cell_type": "code",
      "execution_count": null,
      "metadata": {
        "collapsed": false
      },
      "outputs": [],
      "source": [
        "plt.figure(figsize=(8, 10))\nopl.section(obs_filtered, origin_time=event_time, lw=0.5, align=True,\n            comp='T')\nplt.subplots_adjust(left=0.15, right=0.85, top=0.95, bottom=0.05)\nplt.show(block=False)"
      ]
    },
    {
      "cell_type": "markdown",
      "metadata": {},
      "source": [
        "Now this does not make a lot of sense since the traces are not aligned at the\nstart. Conveniently we can set the limits parameter to only plot a certain\ntime range before and after the arrival times.\n\n"
      ]
    },
    {
      "cell_type": "code",
      "execution_count": null,
      "metadata": {
        "collapsed": false
      },
      "outputs": [],
      "source": [
        "limits = [-500, 500]\n\nplt.figure(figsize=(6, 10))\nopl.section(obs_filtered, origin_time=event_time, limits=limits, lw=0.5,\n            align=True, comp='T')\nplt.subplots_adjust(left=0.25, right=0.8, top=0.95, bottom=0.05)\nplt.show(block=False)"
      ]
    },
    {
      "cell_type": "markdown",
      "metadata": {},
      "source": [
        "Let's also plot a section aligned to the P arrival times.\n\n"
      ]
    },
    {
      "cell_type": "code",
      "execution_count": null,
      "metadata": {
        "collapsed": false
      },
      "outputs": [],
      "source": [
        "obs_filtered = opl.add_traveltime(obs, event_depth_in_m=event_depth, phase='P',\n                                  origin_time=event_time,\n                                  return_filtered=True, vlove=3.7)\nlimits = [-100, 150]\n\nplt.figure(figsize=(8, 6))\nax, ax2 = opl.section(obs_filtered, origin_time=event_time, limits=limits, lw=0.5,\n                      align=True)\nax.plot([0, 0], [-0.5, len(obs_filtered) + 0.5], 'k--', lw=0.5)\nplt.subplots_adjust(left=0.15, right=0.85, top=0.95, bottom=0.1)\nplt.show(block=False)"
      ]
    },
    {
      "cell_type": "markdown",
      "metadata": {},
      "source": [
        "Note that we have fewer traces here because some land in the Pwave shadow zone\nand are not recorded but seismographs. Also note, that ax, and ax2 give you\naxes to the left and right yaxes. ax and ax2 ticks actually set the left and\nright y axes labels. So far we have only plotted a single\ncomponent (Z) in the section. ``obsplotlib`` also has a function to plot\nmultiple components in a single section. This is done using the\n``opl.section_multiple_comp`` function. This function takes the same arguments\nBut insted of being a single letter string, the components argument is a\nstring with all components to be plotted in order.\n\n"
      ]
    },
    {
      "cell_type": "code",
      "execution_count": null,
      "metadata": {
        "collapsed": false
      },
      "outputs": [],
      "source": [
        "plt.figure(figsize=(9, 5))\naxes = opl.section_multiple_comp(obs_filtered, origin_time=event_time,\n                                 limits=limits, lw=0.5, align=True,\n                                 components=\"ZRT\")\nfor ax, _ in axes:\n    ax.plot([0, 0], [-0.5, len(obs_filtered) + 0.5], 'k--', lw=0.5)\n\nplt.subplots_adjust(left=0.15, right=0.85, top=0.95, bottom=0.05, wspace=0.75)\nplt.show(block=False)"
      ]
    },
    {
      "cell_type": "markdown",
      "metadata": {},
      "source": [
        "One main difference is that the section multiple components will find an\nabsmax to normalize across all streams and traces. This can be overwritten by\nabsmax parameter which can be manually set.\n\n\n## Trace comparison\n\nSo far we have only really looked at a single set of traces. Very often in\nseismology however we want to look at trace comparisons. And sometimes\ndirectly looks at measurements on traces, or windows. Let's load a second\nset of traces to compare our observed data too.\n\n"
      ]
    },
    {
      "cell_type": "code",
      "execution_count": null,
      "metadata": {
        "collapsed": false
      },
      "outputs": [],
      "source": [
        "# Read traces and station info\nsynraw = obspy.read(\"DATA/synthetic/traces/*.sac\")\nsyninv = obspy.read_inventory(\"DATA/synthetic/station.xml\")"
      ]
    },
    {
      "cell_type": "markdown",
      "metadata": {},
      "source": [
        "Just like with the observed data we are attach geometry for rotation\n\n"
      ]
    },
    {
      "cell_type": "code",
      "execution_count": null,
      "metadata": {
        "collapsed": false
      },
      "outputs": [],
      "source": [
        "opl.attach_geometry(synraw, event_latitude=event_latitude,\n                    event_longitude=event_longitude, inv=syninv)"
      ]
    },
    {
      "cell_type": "markdown",
      "metadata": {},
      "source": [
        "Since we want to process both synthetics and observed the same fashion,\nWe have to resample the traces in addition to the basic processing.\n\n"
      ]
    },
    {
      "cell_type": "code",
      "execution_count": null,
      "metadata": {
        "collapsed": false
      },
      "outputs": [],
      "source": [
        "starttime = event_time\nnpts = 10800\nsampling_rate_in_hz = 1\nbandpass = [40, 500]\nobs = opl.process(raw, inv=inv, remove_response=True, bandpass=bandpass,\n                  starttime=starttime, npts=npts,\n                  sampling_rate_in_hz=1)\n\nsyn = opl.process(synraw, inv=inv, remove_response=False, bandpass=bandpass,\n                  starttime=starttime, npts=npts,\n                  sampling_rate_in_hz=1)"
      ]
    },
    {
      "cell_type": "markdown",
      "metadata": {},
      "source": [
        "Once both are processed we can plot them with\n\n"
      ]
    },
    {
      "cell_type": "code",
      "execution_count": null,
      "metadata": {
        "collapsed": false
      },
      "outputs": [],
      "source": [
        "obstr = obs.select(network=network_str, station=station_str,\n                   component=component_str)[0]\nsyntr = syn.select(network=network_str, station=station_str,\n                   component=component_str)[0]\n\nplt.figure()\nax = opl.trace([obstr, syntr], labels=['Observed', 'GLAD-M25'],\n               origin_time=event_time, lw=0.75)\n\n# Just reusing the header dict from earlier\nheader_dict['station'] = obstr.id\nheader_dict['bandpass'] = bandpass\n\nopl.add_header(ax, **header_dict)\nplt.subplots_adjust(left=0.05, right=0.95, top=0.8, bottom=0.125)\nplt.show(block=False)"
      ]
    },
    {
      "cell_type": "markdown",
      "metadata": {},
      "source": [
        "Repeat to plot a station\n\n"
      ]
    },
    {
      "cell_type": "code",
      "execution_count": null,
      "metadata": {
        "collapsed": false
      },
      "outputs": [],
      "source": [
        "# Get station from observed trace\nobs_st = obs.select(network=\"II\", station=\"BFO\")\nsyn_st = syn.select(network=\"II\", station=\"BFO\")\n\n# Plot the station\nplt.figure(figsize=(8, 5))\naxes = opl.station([obs_st, syn_st], components='ZRT', lw=0.5,\n                   labels=['Observed', 'GLAD-M25'], nooffset=True)\n\n# If dissatisfied with legend fontsize and position? Just recreate it using\n# the first axes object.\naxes[0].legend(frameon=False, loc='lower right', ncol=3, fontsize='small',\n               bbox_to_anchor=(1.0, 1.0))\n\n# Add the header with a bit more distance to make room for the legend outside\n# the  axes\nopl.add_header(axes[0], **header_dict, dist=0.075)\n\n# Slightly adjust the plots to make the fit nicely into the figure\nplt.subplots_adjust(left=0.075, right=0.925, top=0.775, bottom=0.15)\nplt.show(block=False)"
      ]
    },
    {
      "cell_type": "markdown",
      "metadata": {},
      "source": [
        "For the section, we need do a couple more things. The set of traces in these\ndo not perfectly overlapping.\n\n"
      ]
    },
    {
      "cell_type": "code",
      "execution_count": null,
      "metadata": {
        "collapsed": false
      },
      "outputs": [],
      "source": [
        "streams = opl.select_intersection([obs, syn], components='ZRT')"
      ]
    },
    {
      "cell_type": "markdown",
      "metadata": {},
      "source": [
        "Now that we have selected only the traces that are in all streams, we can\nplot a section with the traces.\n\n"
      ]
    },
    {
      "cell_type": "code",
      "execution_count": null,
      "metadata": {
        "collapsed": false
      },
      "outputs": [],
      "source": [
        "plt.figure(figsize=(8, 10))\nopl.section(streams, origin_time=event_time, lw=0.5,\n            labels=['Observed', 'GLAD-M25'])\nplt.subplots_adjust(left=0.15, right=0.85, top=0.95, bottom=0.05)\nplt.show(block=False)"
      ]
    },
    {
      "cell_type": "markdown",
      "metadata": {},
      "source": [
        "## Windows\n\nOften we select windows on traces to measure misfit, cross-correlation times\nand more. ``obsplotlib`` has a function to plot windows on traces with labels\nof such measurements. The measurements are stored in a list of\n``obsplotlib.Window``'s under trace.stats.windows. The window object has a\nmeasurement attribute which contains a dictionary with labels of the traces\nto compare it to which in turn is a dictionary of the actual measurements\nLet's see what that means in an example.\n\nFirst we need to select a window on a trace. We can do this using the\nadd traveltime function from earlier and selecting a window around the arrival\n\n"
      ]
    },
    {
      "cell_type": "code",
      "execution_count": null,
      "metadata": {
        "collapsed": false
      },
      "outputs": [],
      "source": [
        "obs_filtered = opl.add_traveltime(obs, event_depth_in_m=event_depth, phase='S',\n                                  origin_time=event_time, return_filtered=True)"
      ]
    },
    {
      "cell_type": "markdown",
      "metadata": {},
      "source": [
        "In traces before 30dg, the S arrival window seems to be unclear wrt.\nfollowing surfaces waves. So we will only use traces with a distance\ngreater than 35dg.\n\n"
      ]
    },
    {
      "cell_type": "code",
      "execution_count": null,
      "metadata": {
        "collapsed": false
      },
      "outputs": [],
      "source": [
        "obs_list = []\nfor tr in obs_filtered:\n    if tr.stats.distance < 35:\n        pass\n    else:\n        obs_list.append(tr)\n\nobs_filtered = obspy.Stream(obs_list)"
      ]
    },
    {
      "cell_type": "markdown",
      "metadata": {},
      "source": [
        "Now to make our life a little easier there is a function to copy specific\nparameters from one trace to another. In this case we want to copy the\ntraveltime\n\n"
      ]
    },
    {
      "cell_type": "code",
      "execution_count": null,
      "metadata": {
        "collapsed": false
      },
      "outputs": [],
      "source": [
        "# Select intersection of the observed traces with P traveltime and the synthetic\n# traces\nobs_filtered, syn_filtered = opl.select_intersection([obs_filtered, syn],\n                                                     components='ZRT')\n\n# Copy the traveltime from the observed to the synthetic traces\nopl.copy_trace_param(obs_filtered, syn_filtered, 'traveltime')\nopl.copy_trace_param(obs_filtered, syn_filtered, 'origin_time')"
      ]
    },
    {
      "cell_type": "markdown",
      "metadata": {},
      "source": [
        "Let's first plot these traces in a panel to see what we are working with\n\n"
      ]
    },
    {
      "cell_type": "code",
      "execution_count": null,
      "metadata": {
        "collapsed": false
      },
      "outputs": [],
      "source": [
        "plt.figure(figsize=(9, 5))\nlimits = -200, 250\naxes = opl.section_multiple_comp([obs_filtered, syn_filtered],\n                                 origin_time=event_time,\n                                 labels=['Observed', 'GLAD-M25'],\n                                 limits=limits, lw=0.5, align=True,\n                                 components=\"ZRT\")\n\n# Add a vertical line at 0 seconds and modify labels\nfor _i, (ax, _) in enumerate(axes):\n    ax.plot([0, 0], [-0.5, len(obs_filtered) + 0.5], 'k--', lw=0.5)\n    if _i == 1:\n        ax.set_xlabel('Offset from P arrival [s]')\n    else:\n        ax.set_xlabel('')\n\n# Add legend to\naxes[2][0].legend(frameon=False, loc='lower right', ncol=3, fontsize='small',\n                  bbox_to_anchor=(1.0, 1.0))\n\n# Add header with event info\nopl.add_header(axes[0][0],\n               event=event_name, event_time=event_time,\n               event_latitude=event_latitude, event_longitude=event_longitude,\n               event_depth_in_km=event_depth/1000.0, dist=0.075)\nplt.subplots_adjust(left=0.15, right=0.85, top=0.9, bottom=0.1, wspace=0.75)\nplt.show(block=False)"
      ]
    },
    {
      "cell_type": "markdown",
      "metadata": {},
      "source": [
        "Now we can select a window on the observed trace.\n\n"
      ]
    },
    {
      "cell_type": "code",
      "execution_count": null,
      "metadata": {
        "collapsed": false
      },
      "outputs": [],
      "source": [
        "for tr in obs_filtered:\n    # Create a window object\n    tr.stats.windows = [opl.Window(\n        tr,\n        starttime=tr.stats.origin_time + tr.stats.traveltime + limits[0],\n        endtime=tr.stats.origin_time + tr.stats.traveltime + limits[1])]"
      ]
    },
    {
      "cell_type": "markdown",
      "metadata": {},
      "source": [
        "Given the window on the observed trace we can now make some measurements.\nThis we abbreviate to calling the convenience function ``make_measurements``.\n``make_measurements`` will make a measurement for each window on each trace\nand add it to the window object.\n\n"
      ]
    },
    {
      "cell_type": "code",
      "execution_count": null,
      "metadata": {
        "collapsed": false
      },
      "outputs": [],
      "source": [
        "opl.make_measurements(obs_filtered, syn_filtered, label='M25')"
      ]
    },
    {
      "cell_type": "markdown",
      "metadata": {},
      "source": [
        "The measurements attribute is a dictionary with the following structure:\n\n.. code:: python\n\n    window.measurements = {\n        'label1': {\n            'L2': <normalized L2 norm>,\n            'Xmx'= <cc max>,\n            'DT'= <timeshift>,\n            'XR'= <cc_ratio>\n        },\n        'label2': {\n            ...\n        }\n    }\n\n..note::\n\n    It's important to note here that the measurement labels are not\n    fixed in the plotting functions but rather grabbed from this dictionary.\n    So you can add your own measurements to the dictionary and plot\n    them. Simply add a dictionary or an AttribDict to the\n    trace.stats.windows[idx].measurements dictionary with the label as key\n    and the measurement dictionary as value.\n\n"
      ]
    },
    {
      "cell_type": "markdown",
      "metadata": {},
      "source": [
        "Now that we have windows and some measurements we can plot them using any\nof the previous methods. Let's plot them as trace first\n\n"
      ]
    },
    {
      "cell_type": "code",
      "execution_count": null,
      "metadata": {
        "collapsed": false
      },
      "outputs": [],
      "source": [
        "network_str = 'IU'\nstation_str = 'HRV'\ncomponent_str = 'Z'\nstationtr = obs_filtered.select(network=network_str, station=station_str)[0]\n\nheaderdict = dict(\n    station=f'{network_str}.{station_str}',\n    station_latitude=stationtr.stats.latitude,\n    station_longitude=stationtr.stats.longitude,\n    station_azimuth=stationtr.stats.azimuth,\n    station_distance_in_degree=stationtr.stats.distance,\n    station_back_azimuth=stationtr.stats.back_azimuth,\n    event=event_name,\n    event_latitude=event_latitude,\n    event_longitude=event_longitude,\n    event_depth_in_km=event_depth/1000.0,\n    bandpass=bandpass,\n)"
      ]
    },
    {
      "cell_type": "markdown",
      "metadata": {},
      "source": [
        "Grab only the Z component\n\n"
      ]
    },
    {
      "cell_type": "code",
      "execution_count": null,
      "metadata": {
        "collapsed": false
      },
      "outputs": [],
      "source": [
        "obstr = obs_filtered.select(network=network_str, station=station_str,\n                            component=component_str)[0]\nsyntr = syn_filtered.select(network=network_str, station=station_str,\n                            component=component_str)[0]\n\n# Now, let's plot a full station plot the station\nplt.figure(figsize=(8, 5))\nax = opl.trace([obstr, syntr], lw=0.5, window=True,\n               labels=['Observed', 'GLAD-M25'], nooffset=True,\n               limits=(500, 3250),\n               origin_time=event_time)\n\nopl.add_header(ax, **headerdict, dist=0.025)\n# Slightly adjust the plots to make the fit nicely into the figure\nplt.subplots_adjust(left=0.075, right=0.925, top=0.775, bottom=0.15)\nplt.show(block=False)"
      ]
    },
    {
      "cell_type": "markdown",
      "metadata": {},
      "source": [
        "Now, let's plot a full station, so let's grab all station traces\n\n"
      ]
    },
    {
      "cell_type": "code",
      "execution_count": null,
      "metadata": {
        "collapsed": false
      },
      "outputs": [],
      "source": [
        "obsst = obs_filtered.select(network=network_str, station=station_str)\nsynst = syn_filtered.select(network=network_str, station=station_str)\n\n#\nplt.figure(figsize=(8, 5))\naxes = opl.station([obsst, synst], components='ZRT', lw=0.5, window=True,\n                   labels=['Observed', 'GLAD-M25'], nooffset=True,\n                   origin_time=event_time,\n                   limits=(15.0*60.0, 30.0*60.0)\n                   )\n\nopl.add_header(axes[0], **headerdict, dist=0.025)\n\n# Slightly adjust the plots to make the fit nicely into the figure\nplt.subplots_adjust(left=0.075, right=0.925, top=0.775, bottom=0.15)\nplt.show(block=False)"
      ]
    },
    {
      "cell_type": "code",
      "execution_count": null,
      "metadata": {
        "collapsed": false
      },
      "outputs": [],
      "source": [
        "# Plot the station\nplt.figure(figsize=(8, 5))\naxes = opl.section([obs_filtered, syn_filtered],\n                   comp='Z', lw=0.5, window=True, limits=(500, 3250),\n                   labels=['Observed', 'GLAD-M25'],\n                   origin_time=event_time)\n\nopl.add_header(axes[0], **headerdict, dist=0.025)\n# Slightly adjust the plots to make the fit nicely into the figure\nplt.subplots_adjust(left=0.15, right=0.85, top=0.9, bottom=0.1)\nplt.show(block=False)"
      ]
    },
    {
      "cell_type": "markdown",
      "metadata": {},
      "source": [
        "Now let's turn back to a single trace, and plot the window on it. So,\nfar we have only plotted the extent of the trace and the window. But we\ncan also plot the measurements on the window. To do this we have to parse\na dictionary to the kwarg ``windowkwargs`` with the key\nplot_measurements=True.\n\n"
      ]
    },
    {
      "cell_type": "code",
      "execution_count": null,
      "metadata": {
        "collapsed": false
      },
      "outputs": [],
      "source": [
        "obstr = obs_filtered.select(network=network_str, station=station_str,\n                            component=component_str)[0]\nsyntr = syn_filtered.select(network=network_str, station=station_str,\n                            component=component_str)[0]\n\nplt.figure(figsize=(8, 4.25))\nax = opl.trace([obstr, syntr], labels=['Observed', 'GLAD-M25'],\n               limits=(500, 3250),\n               origin_time=event_time, lw=0.75,\n               window=True, nooffset=True,\n               windowkwargs=dict(plot_measurements=True))\nopl.add_header(ax, **headerdict, dist=0.025)\nplt.show(block=False)"
      ]
    },
    {
      "cell_type": "markdown",
      "metadata": {},
      "source": [
        "Finally let's add a second set of traces to the plot. This time we will\nuse amplitude measurements we made earlier to find an amplitude correction\nfactor and apply it to the synthetic traces to make them match the observed\nslightly better. Then, we make measurements again and plot them.\n\n"
      ]
    },
    {
      "cell_type": "code",
      "execution_count": null,
      "metadata": {
        "collapsed": false
      },
      "outputs": [],
      "source": [
        "# Copy the synthetics\nnewsyn = syn_filtered.copy()\n\n# Get factor\nfactor = np.mean([window.measurements['M25']['XR']\n                 for _tr in obs_filtered for window in _tr.stats.windows])\n\n# Correct new synthetics\nfor tr in newsyn:\n    tr.data *= factor\n\n# Make measurements\nopl.make_measurements(obs_filtered, newsyn, label='M25C')"
      ]
    },
    {
      "cell_type": "markdown",
      "metadata": {},
      "source": [
        "Now we plot the measurements on Z and R components of the station with\nboth the windows and the measurements. That we added to the windows\n\n"
      ]
    },
    {
      "cell_type": "code",
      "execution_count": null,
      "metadata": {
        "collapsed": false
      },
      "outputs": [],
      "source": [
        "# Subselect streams\nobsst = obs_filtered.select(network=network_str, station=station_str)\nsynst = syn_filtered.select(network=network_str, station=station_str)\nnewsynst = newsyn.select(network=network_str, station=station_str)\n\n\nplt.figure(figsize=(8, 5))\nax = opl.station([obsst, synst, newsynst], labels=['Observed', 'M25', 'M25C'],\n                 limits=(500, 3250), components='ZR',\n                 origin_time=event_time, lw=0.75,\n                 window=True, nooffset=True,\n                 windowkwargs=dict(\n                     plot_measurements=True,\n                     text_kwargs=dict(fontsize='x-small'))\n                 )\nopl.add_header(ax[0], **headerdict, dist=0.025)\nplt.show(block=False)"
      ]
    },
    {
      "cell_type": "markdown",
      "metadata": {},
      "source": [
        "In doing this we have more or less performed a small inversion. If we optimize\nfor the sources scalar moment, M0, considering all S arrivals, simply perform\na scaling. By finding all time-shifted correlation ratios between observed\nand synthetic data we find the amplitude that best fits the data, but\ndisregard the phase. This is a very simple inversion, but it is a good example\nFor showing measurements on traces and windows.\n\n"
      ]
    }
  ],
  "metadata": {
    "kernelspec": {
      "display_name": "Python 3",
      "language": "python",
      "name": "python3"
    },
    "language_info": {
      "codemirror_mode": {
        "name": "ipython",
        "version": 3
      },
      "file_extension": ".py",
      "mimetype": "text/x-python",
      "name": "python",
      "nbconvert_exporter": "python",
      "pygments_lexer": "ipython3",
      "version": "3.10.12"
    }
  },
  "nbformat": 4,
  "nbformat_minor": 0
}