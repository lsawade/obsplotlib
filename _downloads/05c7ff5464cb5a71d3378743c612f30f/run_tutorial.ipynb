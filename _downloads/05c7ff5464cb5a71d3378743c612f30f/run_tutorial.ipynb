{
  "cells": [
    {
      "cell_type": "markdown",
      "metadata": {},
      "source": [
        "\n# ``obsplotlib`` Tutorial\n\nThe tutorial will go over the plotting functions in ``obsplotlib`` and how to\nprepare your data to plot traces, station seismograms and full seismic sections\nusing ``obsplotlib``. Here and there the tutorial will digress into some\nmatplotlib details, to show how you could easily customize the plots to your\nliking.\n\n\n## Loading all modules\n"
      ]
    },
    {
      "cell_type": "code",
      "execution_count": null,
      "metadata": {
        "collapsed": false
      },
      "outputs": [],
      "source": [
        ""
      ]
    },
    {
      "cell_type": "code",
      "execution_count": null,
      "metadata": {
        "collapsed": false
      },
      "outputs": [],
      "source": [
        "from obsplotlib.seismogram import station\nimport obspy\nimport obsplotlib.plot as opl\nimport matplotlib.pyplot as plt"
      ]
    },
    {
      "cell_type": "markdown",
      "metadata": {},
      "source": [
        "## Loading data\n\n\n"
      ]
    },
    {
      "cell_type": "code",
      "execution_count": null,
      "metadata": {
        "collapsed": false
      },
      "outputs": [],
      "source": [
        "event = obspy.read_events(\"DATA/CMTSOLUTION\")[0]\nraw = obspy.read(\"DATA/observed/traces/*.sac\")\ninv = obspy.read_inventory(\"DATA/observed/station.xml\")"
      ]
    },
    {
      "cell_type": "markdown",
      "metadata": {},
      "source": [
        "Before plotting anything let's get some information about the event and the\nstation and process the data\n\n"
      ]
    },
    {
      "cell_type": "code",
      "execution_count": null,
      "metadata": {
        "collapsed": false
      },
      "outputs": [],
      "source": [
        "# Get event latitude and longitude for geometry evaluation\nevent_time = event.preferred_origin().time\nevent_latitude = event.preferred_origin().latitude\nevent_longitude = event.preferred_origin().longitude\nevent_depth = event.preferred_origin().depth  # in meters\nevent_name = 'C' + event.preferred_origin().resource_id.id.split('/')[-2]"
      ]
    },
    {
      "cell_type": "markdown",
      "metadata": {},
      "source": [
        "Attach the event station geometry to the traces, important for rotation to RTZ\n\n"
      ]
    },
    {
      "cell_type": "code",
      "execution_count": null,
      "metadata": {
        "collapsed": false
      },
      "outputs": [],
      "source": [
        "opl.attach_geometry(raw, event_latitude=event_latitude,\n                    event_longitude=event_longitude, inv=inv)"
      ]
    },
    {
      "cell_type": "markdown",
      "metadata": {},
      "source": [
        "Processing the data very generically\n\n"
      ]
    },
    {
      "cell_type": "code",
      "execution_count": null,
      "metadata": {
        "collapsed": false
      },
      "outputs": [],
      "source": [
        "bandpass = [30, 200]\nobs = opl.process(raw, inv=inv, remove_response=True, bandpass=bandpass)"
      ]
    },
    {
      "cell_type": "markdown",
      "metadata": {},
      "source": [
        "## Trace\n\nFirst let's inspect the trace plotting function. It is in a way a wrapper\naround the matplotlib plot function but with some added functionality to grab\ninfo from the stats object and plot it in a \"nice\" way.\n\n"
      ]
    },
    {
      "cell_type": "code",
      "execution_count": null,
      "metadata": {
        "collapsed": false
      },
      "outputs": [],
      "source": [
        "# Select a trace\nnetwork_str, station_str, component_str = \"II\", \"BFO\", \"Z\"\ntr = obs.select(network=network_str, station=station_str,\n                component=component_str)[0]\n\nplt.figure()\nax = opl.trace(tr, plot_labels=True, lw=0.5)\nplt.show(block=False)"
      ]
    },
    {
      "cell_type": "markdown",
      "metadata": {},
      "source": [
        "Since we have both station and event information in the stats object we can\nadd a header to the figure to be a little more explicit.\n\n"
      ]
    },
    {
      "cell_type": "code",
      "execution_count": null,
      "metadata": {
        "collapsed": false
      },
      "outputs": [],
      "source": [
        "plt.figure(figsize=(8, 3))\nax = opl.trace(tr, plot_labels=False, origin_time=event_time, lw=0.5)\n\nheader_dict = dict(\n    station=f'{tr.id}',\n    station_latitude=tr.stats.latitude,\n    station_longitude=tr.stats.longitude,\n    station_azimuth=tr.stats.azimuth,\n    station_back_azimuth=tr.stats.back_azimuth,\n    station_distance_in_degree=tr.stats.distance,\n    event=event_name,\n    event_latitude=event_latitude,\n    event_longitude=event_longitude,\n    event_depth_in_km=event_depth/1000.0,\n    event_time=event_time,\n    add_newline_station=True,\n    add_newline_event=True,\n    bandpass=bandpass,\n    fontsize='medium'\n)\n\nopl.add_header(ax, **header_dict)\nplt.subplots_adjust(left=0.05, right=0.95, top=0.725, bottom=0.15)\nplt.show(block=False)"
      ]
    },
    {
      "cell_type": "markdown",
      "metadata": {},
      "source": [
        "In the example above we are providing all possible arguments to the\n``add_header`` function just for show. Depending on whether they are provided\nthey will be added to the header or not. The header is a simple text object\nand all font related arguments are passed through ``plot_label`` and to\n``plt.text()``. The ``add_newline_station`` and ``add_newline_event`` arguments\nSimply add a newline and a space after the station name and event name.\n\n<div class=\"alert alert-info\"><h4>Note</h4><p>Digression: At this point you probably already noticed how I'm using\n    a monospace font. You may adjust this to your liking by changing the\n    ``plt.rcParams[\"font.family\"]`` parameter, e.g\n\n    .. code:: python\n\n        plt.rcParams[\"font.family\"] = \"Arial\"\n\n    Monospace is a personal preference of mine, because it makes it easier to\n    align the header and the labels. But it is not the most beautiful font.\n    Especially, if you are comparing traces and plot labels that contain\n    numbers, it is simpler to compare numbers if they are aligned. Anywho\n    I will enable it for the next section before switching back to monospace.</p></div>\n\n## Station\n\nThe next function is the station function. Instead of plotting a single trace\nit will plot a set of components in a single figure. It's a wrapper around the\nplot trace function, so most arguments are parsed to the trace function. The\nThe components are defined by a keyword argument. So you may use ``ZRT``\n``NEZ`` or ``123`` or just two, ``RT``, for example.\n\n"
      ]
    },
    {
      "cell_type": "code",
      "execution_count": null,
      "metadata": {
        "collapsed": false
      },
      "outputs": [],
      "source": [
        "# Switching font to Arial\nplt.rcParams[\"font.family\"] = \"Arial\"\n\n# Get station from observed trace\nst = obs.select(network=\"II\", station=\"BFO\")\n\n# Plot the station\nplt.figure(figsize=(8, 5))\naxes = opl.station(st, components='ZRT', lw=0.5)\n\n# If dissatisfied with legend fontsize and position? Just recreate it using\n# the first axes object.\naxes[0].legend(frameon=False, loc='lower right', ncol=3, fontsize='small',\n               bbox_to_anchor=(1.0, 1.0))\n\n# Add the header with a bit more distance to make room for the legend outside\n# the  axes\nopl.add_header(axes[0], **header_dict, dist=0.075)\n\n# Slightly adjust the plots to make the fit nicely into the figure\nplt.subplots_adjust(left=0.075, right=0.925, top=0.775, bottom=0.15)\nplt.show(block=False)"
      ]
    },
    {
      "cell_type": "markdown",
      "metadata": {},
      "source": [
        "Putting the legend outside the axes is nice when we are plotting multiple\ntraces to compare them. But if we are only plotting a single stream, it is\nnicer to plot the legend inside the axes. Because it removes some unused\nwhite space.\n\n## Section\n\nPlotting a section should be simple. And obspy does make it fairly easy, but\nthe moment you want to plot a section with multiple components, or align\ntraces it becomes fairly complicated. ``obsplotlib`` is trying to streamline\nthese processes, by using some function to add properties to the stats object\nof the traces and then using these properties to plot the section. We actually\nalready did this earlier in the tutorial when we used\n``opl.attach_geometry(...)`` to attach the station coordinates to the stats.\nIf you don't have a stationxml file, you can use opl.attach_geometry(...)\nafter attaching station coordinates to the traces' stats objects, or manually\nadd distance, (and optionally, azimuth, and back_azimuth for labels)\nto the stats object. To save space in the section, traces are not plotting by\ntheir actual distance, but one by one with a label that has the distance.\n\n"
      ]
    },
    {
      "cell_type": "code",
      "execution_count": null,
      "metadata": {
        "collapsed": false
      },
      "outputs": [],
      "source": [
        "# Switching back to monospace\nplt.rcParams[\"font.family\"] = \"monospace\"\n\nplt.figure(figsize=(8, 10))\nopl.section(obs, lw=0.5)\nplt.legend(frameon=False, loc='upper right', ncol=3, fontsize='small')\nplt.subplots_adjust(left=0.15, right=0.85, top=0.95, bottom=0.05)\nplt.show(block=False)"
      ]
    },
    {
      "cell_type": "markdown",
      "metadata": {},
      "source": [
        "Plotting the same section but with axis limits from 300 seconds to 1500 seconds\nafter the event\n\n"
      ]
    },
    {
      "cell_type": "code",
      "execution_count": null,
      "metadata": {
        "collapsed": false
      },
      "outputs": [],
      "source": [
        "starttime = event_time + 600\nendtime = event_time + 3600\nlimits = [starttime, endtime]\n\nplt.figure(figsize=(8, 10))\nopl.section(obs, limits=limits, lw=0.5)\nplt.subplots_adjust(left=0.15, right=0.85, top=0.95, bottom=0.05)\nplt.show(block=False)"
      ]
    },
    {
      "cell_type": "markdown",
      "metadata": {},
      "source": [
        "Plotting the same section but with the origin time defined so that we get\nTime since event origin on the x-axis.\n\n"
      ]
    },
    {
      "cell_type": "code",
      "execution_count": null,
      "metadata": {
        "collapsed": false
      },
      "outputs": [],
      "source": [
        "plt.figure(figsize=(8, 10))\nopl.section(obs, origin_time=event_time, lw=0.5)\nplt.subplots_adjust(left=0.15, right=0.85, top=0.95, bottom=0.05)\nplt.show(block=False)"
      ]
    },
    {
      "cell_type": "markdown",
      "metadata": {},
      "source": [
        "Again plotting the same section but now with the origin time defined so that we\nget Time since event origin on the x-axis and with axis limits from 300 seconds\nto 1500 seconds after the event\n\n"
      ]
    },
    {
      "cell_type": "code",
      "execution_count": null,
      "metadata": {
        "collapsed": false
      },
      "outputs": [],
      "source": [
        "limits = [600, 3600]\nplt.figure(figsize=(8, 10))\nopl.section(obs, origin_time=event_time, limits=limits, lw=0.5)\nplt.subplots_adjust(left=0.15, right=0.85, top=0.95, bottom=0.05)\nplt.show(block=False)"
      ]
    },
    {
      "cell_type": "markdown",
      "metadata": {},
      "source": [
        "Next we are going to plot an aligned sections. To do this each trace must have\na obspy.Trace.stats.traveltime parameter. This can be done using the\nadd_traveltime function or manually using your own function.\n\n"
      ]
    },
    {
      "cell_type": "code",
      "execution_count": null,
      "metadata": {
        "collapsed": false
      },
      "outputs": [],
      "source": [
        "obs_filtered = opl.add_traveltime(obs, event_depth_in_m=event_depth, phase='love',\n                                  orbit=1, return_filtered=True, vlove=6.5)"
      ]
    },
    {
      "cell_type": "markdown",
      "metadata": {},
      "source": [
        "Note that the add traveltime function uses the TauPy model by default for\nbody waves and fixed velocity for surface waves. The traveltimes are then\ncomputed using the distance parameter in the stats object.\n\n"
      ]
    },
    {
      "cell_type": "code",
      "execution_count": null,
      "metadata": {
        "collapsed": false
      },
      "outputs": [],
      "source": [
        "plt.figure(figsize=(8, 10))\nopl.section(obs_filtered, origin_time=event_time, lw=0.5, align=True,\n            comp='T')\nplt.subplots_adjust(left=0.15, right=0.85, top=0.95, bottom=0.05)\nplt.show(block=False)"
      ]
    },
    {
      "cell_type": "markdown",
      "metadata": {},
      "source": [
        "Now this does not make a lot of sense since the traces are not aligned at the\nstart. Conveniently we can set the limits parameter to only plot a certain\ntime range before and after the arrival times.\n\n"
      ]
    },
    {
      "cell_type": "code",
      "execution_count": null,
      "metadata": {
        "collapsed": false
      },
      "outputs": [],
      "source": [
        "limits = [-500, 500]\n\nplt.figure(figsize=(6, 10))\nopl.section(obs_filtered, origin_time=event_time, limits=limits, lw=0.5,\n            align=True, comp='T')\nplt.subplots_adjust(left=0.25, right=0.8, top=0.95, bottom=0.05)\nplt.show(block=False)"
      ]
    },
    {
      "cell_type": "markdown",
      "metadata": {},
      "source": [
        "Let's also plot a section aligned to the P arrival times.\n\n"
      ]
    },
    {
      "cell_type": "code",
      "execution_count": null,
      "metadata": {
        "collapsed": false
      },
      "outputs": [],
      "source": [
        "obs_filtered = opl.add_traveltime(obs, event_depth_in_m=event_depth, phase='P',\n                                  origin_time=event_time,\n                                  return_filtered=True, vlove=3.7)\nlimits = [-100, 150]\n\nplt.figure(figsize=(8, 6))\nopl.section(obs_filtered, origin_time=event_time, limits=limits, lw=0.5,\n            align=True)\nplt.subplots_adjust(left=0.25, right=0.8, top=0.95, bottom=0.05)\nplt.show(block=False)"
      ]
    },
    {
      "cell_type": "markdown",
      "metadata": {},
      "source": [
        "Note that we have fewer traces here because some land in the Pwave shadow zone\nand are not recorded but seismographs. So far we have only plotted a single\ncomponent (Z) in the section. ``obsplotlib`` also has a function to plot\nmultiple components in a single section. This is done using the\n``opl.section_multiple_comp`` function. This function takes the same arguments\nBut insted of being a single letter string, the components argument is a\nstring with all components to be plotted in order.\n\n"
      ]
    },
    {
      "cell_type": "code",
      "execution_count": null,
      "metadata": {
        "collapsed": false
      },
      "outputs": [],
      "source": [
        "plt.figure(figsize=(9, 5))\naxes = opl.section_multiple_comp(obs_filtered, origin_time=event_time,\n                                 limits=limits, lw=0.5, align=True,\n                                 components=\"ZRT\")\nplt.subplots_adjust(left=0.15, right=0.85, top=0.95, bottom=0.05, wspace=0.75)\nplt.show(block=False)"
      ]
    },
    {
      "cell_type": "markdown",
      "metadata": {},
      "source": [
        "One main difference is that the section multiple components will find an\nabsmax to normalize across all streams and traces. This can be overwritten by\nabsmax parameter which can be manually set.\n\n"
      ]
    }
  ],
  "metadata": {
    "kernelspec": {
      "display_name": "Python 3",
      "language": "python",
      "name": "python3"
    },
    "language_info": {
      "codemirror_mode": {
        "name": "ipython",
        "version": 3
      },
      "file_extension": ".py",
      "mimetype": "text/x-python",
      "name": "python",
      "nbconvert_exporter": "python",
      "pygments_lexer": "ipython3",
      "version": "3.10.12"
    }
  },
  "nbformat": 4,
  "nbformat_minor": 0
}